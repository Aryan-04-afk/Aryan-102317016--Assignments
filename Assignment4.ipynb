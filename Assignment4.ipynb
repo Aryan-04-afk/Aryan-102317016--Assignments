{
  "nbformat": 4,
  "nbformat_minor": 0,
  "metadata": {
    "colab": {
      "provenance": []
    },
    "kernelspec": {
      "name": "python3",
      "display_name": "Python 3"
    },
    "language_info": {
      "name": "python"
    }
  },
  "cells": [
    {
      "cell_type": "markdown",
      "source": [
        "**Q.1 Write a program to create a NumPy 1D-array with 5 elements and perform basic\n",
        "operations like:\n",
        "a) Addition of 2 in all the element\n",
        "b) Multiply 3 with all the elements\n",
        "c) Divide every element by 2**"
      ],
      "metadata": {
        "id": "KmKUfFpgoLPi"
      }
    },
    {
      "cell_type": "code",
      "execution_count": null,
      "metadata": {
        "colab": {
          "base_uri": "https://localhost:8080/"
        },
        "id": "3P6oMbI-nB6g",
        "outputId": "618d0942-7a9e-42bc-8094-68cb5ea9dfdd"
      },
      "outputs": [
        {
          "output_type": "stream",
          "name": "stdout",
          "text": [
            "Original Array: [1 2 3 4 5]\n",
            "After Addition: [3 4 5 6 7]\n",
            "After Multiplication: [ 3  6  9 12 15]\n",
            "After Division: [0.5 1.  1.5 2.  2.5]\n"
          ]
        }
      ],
      "source": [
        "import numpy as np\n",
        "\n",
        "arr = np.array([1, 2, 3, 4, 5])\n",
        "\n",
        "add_result = arr + 2\n",
        "\n",
        "mul_result = arr * 3\n",
        "\n",
        "div_result = arr / 2\n",
        "\n",
        "print(\"Original Array:\", arr)\n",
        "print(\"After Addition:\", add_result)\n",
        "print(\"After Multiplication:\", mul_result)\n",
        "print(\"After Division:\", div_result)\n"
      ]
    },
    {
      "cell_type": "markdown",
      "source": [
        "**Q.2 Questions on Basic NumPy Array:\n",
        "a) Reverse the NumPy array: arr = np.array([1, 2, 3, 6, 4, 5])\n",
        "b) Find the most frequent value and their indice(s) in the following arrays:\n",
        "i. x = np.array([1,2,3,4,5,1,2,1,1,1])\n",
        "ii. y = np.array([1, 1, 1, 2, 3, 4, 2, 4, 3, 3, ])**\n"
      ],
      "metadata": {
        "id": "r1GWmKlhrp7_"
      }
    },
    {
      "cell_type": "code",
      "source": [
        "\n",
        "arr = np.array([1, 2, 3, 6, 4, 5])\n",
        "reversed_arr = arr[::-1]\n",
        "print(\"Original array:\", arr)\n",
        "print(\"Reversed array:\", reversed_arr)\n",
        "\n",
        "\n",
        "def most_frequent(arr):\n",
        "    values, counts = np.unique(arr, return_counts=True)\n",
        "    max_index = np.argmax(counts)\n",
        "    most_common_value = values[max_index]\n",
        "    indices = np.where(arr == most_common_value)[0]  # Get indices of the most frequent value\n",
        "    return most_common_value, indices\n",
        "\n",
        "x = np.array([1, 2, 3, 4, 5, 1, 2, 1, 1, 1])\n",
        "most_x, indices_x = most_frequent(x)\n",
        "print(\"\\nArray x:\", x)\n",
        "print(\"Most frequent value in x:\", most_x)\n",
        "print(\"Indices of most frequent value in x:\", indices_x)\n",
        "\n",
        "\n",
        "y = np.array([1, 1, 1, 2, 3, 4, 2, 4, 3, 3])\n",
        "most_y, indices_y = most_frequent(y)\n",
        "print(\"\\nArray y:\", y)\n",
        "print(\"Most frequent value in y:\", most_y)\n",
        "print(\"Indices of most frequent value in y:\", indices_y)\n",
        "\n",
        "\n",
        "\n"
      ],
      "metadata": {
        "colab": {
          "base_uri": "https://localhost:8080/"
        },
        "id": "OLOJl54wrvEW",
        "outputId": "f8aa6a46-8abd-47ee-e421-35245f31a4e5"
      },
      "execution_count": 9,
      "outputs": [
        {
          "output_type": "stream",
          "name": "stdout",
          "text": [
            "Original array: [1 2 3 6 4 5]\n",
            "Reversed array: [5 4 6 3 2 1]\n",
            "\n",
            "Array x: [1 2 3 4 5 1 2 1 1 1]\n",
            "Most frequent value in x: 1\n",
            "Indices of most frequent value in x: [0 5 7 8 9]\n",
            "\n",
            "Array y: [1 1 1 2 3 4 2 4 3 3]\n",
            "Most frequent value in y: 1\n",
            "Indices of most frequent value in y: [0 1 2]\n"
          ]
        }
      ]
    },
    {
      "cell_type": "markdown",
      "source": [
        "**Q.3 For the given 2-D array arr=np.array([10, 20, 30], [40, 50, 60], [70, 80, 90]), access\n",
        "elements using row and column indices as follows:\n",
        "a) Access 1st row, 2nd column\n",
        "b) Access 3rd row, 1st column**\n"
      ],
      "metadata": {
        "id": "l2YEEvouy3CA"
      }
    },
    {
      "cell_type": "code",
      "source": [
        "\n",
        "arr = np.array([[10, 20, 30], [40, 50, 60], [70, 80, 90]])\n",
        "\n",
        "first_row_second_col = arr[0, 1]\n",
        "print(\"1st row, 2nd column:\", first_row_second_col)\n",
        "\n",
        "third_row_first_col = arr[2, 0]\n",
        "print(\"3rd row, 1st column:\", third_row_first_col)\n"
      ],
      "metadata": {
        "colab": {
          "base_uri": "https://localhost:8080/"
        },
        "id": "u_klOZeXy4V-",
        "outputId": "7c3b7daa-f046-495a-9eb2-413e790433fe"
      },
      "execution_count": null,
      "outputs": [
        {
          "output_type": "stream",
          "name": "stdout",
          "text": [
            "1st row, 2nd column: 20\n",
            "3rd row, 1st column: 70\n"
          ]
        }
      ]
    },
    {
      "cell_type": "markdown",
      "source": [
        "**Q.4 Write program to create an 1-D NumPy array named <<Your Name>> with evenly\n",
        "spaced 25 numbers from 10 to 100 using linspace(). Print the dimensions of the array,\n",
        "shape, total elements, the data type of each element and total number of bytes consumed\n",
        "by the array. Find the transpose of this array using reshape() attribute. Can we do the same\n",
        "with T attribute?**"
      ],
      "metadata": {
        "id": "oEcHXlIWzGhU"
      }
    },
    {
      "cell_type": "code",
      "source": [
        "Aryan = np.linspace(10, 100, 25)\n",
        "\n",
        "print(\"Dimensions of array:\", Aryan.ndim)\n",
        "print(\"Shape of array:\", Aryan.shape)\n",
        "print(\"Total elements:\", Aryan.size)\n",
        "print(\"Data type of elements:\", Aryan.dtype)\n",
        "print(\"Total bytes consumed:\", Aryan.nbytes)\n",
        "\n",
        "transposed_array = Aryan.reshape(25, 1)\n",
        "print(\"Transposed Array (using reshape):\\n\", transposed_array)\n",
        "\n",
        "print(\"Does T attribute work?\", hasattr(Aryan, 'T'))\n"
      ],
      "metadata": {
        "colab": {
          "base_uri": "https://localhost:8080/"
        },
        "id": "Osg2oZJq0C7J",
        "outputId": "a51823da-e9cb-4bd3-d819-836e3563c505"
      },
      "execution_count": null,
      "outputs": [
        {
          "output_type": "stream",
          "name": "stdout",
          "text": [
            "Dimensions of array: 1\n",
            "Shape of array: (25,)\n",
            "Total elements: 25\n",
            "Data type of elements: float64\n",
            "Total bytes consumed: 200\n",
            "Transposed Array (using reshape):\n",
            " [[ 10.  ]\n",
            " [ 13.75]\n",
            " [ 17.5 ]\n",
            " [ 21.25]\n",
            " [ 25.  ]\n",
            " [ 28.75]\n",
            " [ 32.5 ]\n",
            " [ 36.25]\n",
            " [ 40.  ]\n",
            " [ 43.75]\n",
            " [ 47.5 ]\n",
            " [ 51.25]\n",
            " [ 55.  ]\n",
            " [ 58.75]\n",
            " [ 62.5 ]\n",
            " [ 66.25]\n",
            " [ 70.  ]\n",
            " [ 73.75]\n",
            " [ 77.5 ]\n",
            " [ 81.25]\n",
            " [ 85.  ]\n",
            " [ 88.75]\n",
            " [ 92.5 ]\n",
            " [ 96.25]\n",
            " [100.  ]]\n",
            "Does T attribute work? True\n"
          ]
        }
      ]
    },
    {
      "cell_type": "markdown",
      "source": [
        "**Q5. Create a 2-D Array of three rows and four columns, named ucs420_<your_name>>\n",
        "with following values – 10, 20, 30, 40, 50, 60, 70, 80, 90, 15, 20, 35. Compute the mean,\n",
        "median, max, min, unique elements. Reshape the array to four rows and three columns and\n",
        "name it as reshaped_ ucs420_<your_name>>. Resize the array to two rows and three\n",
        "columns and name it as resized_ ucs420_<your_name>>.**"
      ],
      "metadata": {
        "id": "4XcvpA541GxY"
      }
    },
    {
      "cell_type": "code",
      "source": [
        "\n",
        "ucs420_array = np.array([[10, 20, 30, 40],\n",
        "                         [50, 60, 70, 80],\n",
        "                         [90, 15, 20, 35]])\n",
        "\n",
        "mean_value = np.mean(ucs420_array)\n",
        "median_value = np.median(ucs420_array)\n",
        "max_value = np.max(ucs420_array)\n",
        "min_value = np.min(ucs420_array)\n",
        "unique_elements = np.unique(ucs420_array)\n",
        "\n",
        "reshaped_ucs420_array = ucs420_array.reshape(4, 3)\n",
        "\n",
        "resized_ucs420_array = np.resize(ucs420_array, (2, 3))\n",
        "\n",
        "print(\"Mean:\", mean_value)\n",
        "print(\"Median:\", median_value)\n",
        "print(\"Max:\", max_value)\n",
        "print(\"Min:\", min_value)\n",
        "print(\"Unique Elements:\", unique_elements)\n",
        "print(\"Reshaped Array (4x3):\\n\", reshaped_ucs420_array)\n",
        "print(\"Resized Array (2x3):\\n\", resized_ucs420_array)\n"
      ],
      "metadata": {
        "id": "-iJIWq3w1zud"
      },
      "execution_count": null,
      "outputs": []
    }
  ]
}
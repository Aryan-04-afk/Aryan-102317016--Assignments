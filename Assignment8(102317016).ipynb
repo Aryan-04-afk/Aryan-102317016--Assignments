{
  "nbformat": 4,
  "nbformat_minor": 0,
  "metadata": {
    "colab": {
      "provenance": []
    },
    "kernelspec": {
      "name": "python3",
      "display_name": "Python 3"
    },
    "language_info": {
      "name": "python"
    }
  },
  "cells": [
    {
      "cell_type": "markdown",
      "source": [
        "**Question 1.Implement logistic regression on the Iris dataset.**\n"
      ],
      "metadata": {
        "id": "9jzPm-krNYMr"
      }
    },
    {
      "cell_type": "code",
      "source": [
        "from sklearn import datasets\n",
        "from sklearn.model_selection import train_test_split\n",
        "from sklearn.preprocessing import StandardScaler\n",
        "from sklearn.linear_model import LogisticRegression\n",
        "from sklearn.multiclass import OneVsRestClassifier\n",
        "\n",
        "iris = datasets.load_iris()\n",
        "x = iris.data\n",
        "y = iris.target\n",
        "\n",
        "x_train, x_test, y_train, y_test = train_test_split(x, y, test_size=0.2, random_state=42, stratify=y)\n",
        "\n",
        "sc = StandardScaler()\n",
        "x_train_std = sc.fit_transform(x_train)\n",
        "x_test_std = sc.transform(x_test)\n",
        "\n",
        "model = OneVsRestClassifier(LogisticRegression(max_iter=200))\n",
        "model.fit(x_train_std, y_train)\n",
        "\n",
        "y_pred = model.predict(x_test_std)\n",
        "\n",
        "\n"
      ],
      "metadata": {
        "id": "iPPx6H1y08l2"
      },
      "execution_count": 9,
      "outputs": []
    },
    {
      "cell_type": "code",
      "source": [
        "from sklearn.metrics import accuracy_score, classification_report, confusion_matrix\n",
        "import seaborn as sns\n",
        "import matplotlib.pyplot as plt\n",
        "\n",
        "accuracy = accuracy_score(y_test, y_pred)\n",
        "print(f\"Accuracy: {accuracy:.2f}\")\n",
        "\n",
        "print(\"Classification Report:\")\n",
        "print(classification_report(y_test, y_pred))\n",
        "\n",
        "conf_matrix = confusion_matrix(y_test, y_pred)\n",
        "sns.heatmap(conf_matrix, annot=True, fmt='d', cmap='Blues')\n",
        "plt.xlabel('Predicted')\n",
        "plt.ylabel('Actual')\n",
        "plt.title('Confusion Matrix')\n",
        "plt.show()\n"
      ],
      "metadata": {
        "colab": {
          "base_uri": "https://localhost:8080/",
          "height": 676
        },
        "id": "YsDwalyR1X1_",
        "outputId": "9ce8a919-3d10-400e-e730-1bc170116f34"
      },
      "execution_count": 10,
      "outputs": [
        {
          "output_type": "stream",
          "name": "stdout",
          "text": [
            "Accuracy: 0.90\n",
            "Classification Report:\n",
            "              precision    recall  f1-score   support\n",
            "\n",
            "           0       1.00      1.00      1.00        10\n",
            "           1       0.89      0.80      0.84        10\n",
            "           2       0.82      0.90      0.86        10\n",
            "\n",
            "    accuracy                           0.90        30\n",
            "   macro avg       0.90      0.90      0.90        30\n",
            "weighted avg       0.90      0.90      0.90        30\n",
            "\n"
          ]
        },
        {
          "output_type": "display_data",
          "data": {
            "text/plain": [
              "<Figure size 640x480 with 2 Axes>"
            ],
            "image/png": "[encoded data removed]"
          },
          "metadata": {}
        }
      ]
    },
    {
      "cell_type": "code",
      "source": [
        "import pandas as pd\n",
        "\n",
        "feature_names = iris.feature_names\n",
        "\n",
        "for i, clf in enumerate(model.estimators_):\n",
        "    coefs = clf.coef_[0]\n",
        "    feature_importance = pd.DataFrame({'Feature': feature_names, 'Coefficient': coefs})\n",
        "    print(f\"\\nClass {i} coefficients:\")\n",
        "    print(feature_importance)\n",
        "\n",
        "\n"
      ],
      "metadata": {
        "colab": {
          "base_uri": "https://localhost:8080/"
        },
        "id": "eDPLdJL11al9",
        "outputId": "2ec8177c-3017-4b7b-fdff-f27687e1266f"
      },
      "execution_count": 12,
      "outputs": [
        {
          "output_type": "stream",
          "name": "stdout",
          "text": [
            "\n",
            "Class 0 coefficients:\n",
            "             Feature  Coefficient\n",
            "0  sepal length (cm)    -1.076849\n",
            "1   sepal width (cm)     1.120774\n",
            "2  petal length (cm)    -1.692032\n",
            "3   petal width (cm)    -1.555256\n",
            "\n",
            "Class 1 coefficients:\n",
            "             Feature  Coefficient\n",
            "0  sepal length (cm)     0.062986\n",
            "1   sepal width (cm)    -1.266145\n",
            "2  petal length (cm)     0.857461\n",
            "3   petal width (cm)    -0.906712\n",
            "\n",
            "Class 2 coefficients:\n",
            "             Feature  Coefficient\n",
            "0  sepal length (cm)     0.236488\n",
            "1   sepal width (cm)    -0.393858\n",
            "2  petal length (cm)     2.152074\n",
            "3   petal width (cm)     2.945038\n"
          ]
        }
      ]
    },
    {
      "cell_type": "code",
      "source": [
        "new_sample = [[5.1, 3.5, 1.4, 0.2]]\n",
        "new_sample_std = sc.transform(new_sample)\n",
        "prediction = model.predict(new_sample_std)\n",
        "print(f\"Predicted class: {iris.target_names[prediction][0]}\")\n"
      ],
      "metadata": {
        "colab": {
          "base_uri": "https://localhost:8080/"
        },
        "id": "IuJ5GvMT1dBV",
        "outputId": "f3893d1a-0dcf-467d-f495-265e7e8c674e"
      },
      "execution_count": 13,
      "outputs": [
        {
          "output_type": "stream",
          "name": "stdout",
          "text": [
            "Predicted class: setosa\n"
          ]
        }
      ]
    }
  ]
}